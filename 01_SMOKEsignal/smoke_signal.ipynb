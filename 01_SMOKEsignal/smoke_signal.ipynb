{
 "cells": [
  {
   "cell_type": "code",
   "execution_count": 1,
   "id": "05d6bb76-e253-432e-ac1d-66f74c56312b",
   "metadata": {},
   "outputs": [],
   "source": [
    "import socket\n",
    "import time\n",
    "\n",
    "def create_packet(size_kb):\n",
    "    \"\"\"Creates a packet of specified size in KB filled with the word 'SMOKE'.\"\"\"\n",
    "    size_bytes = size_kb * 1024  # Convert KB to bytes\n",
    "    filler_data = \"SMOKE\" * (size_bytes // 5)  # The size of \"SMOKE\" is 5 bytes\n",
    "    # If there's a remainder when dividing by 5, it means the filler data \n",
    "    # won't perfectly align with the desired packet size, \n",
    "    # so we add some extra bytes.\n",
    "    remainder = size_bytes % 5\n",
    "    if remainder:\n",
    "        filler_data += \"SMOKE\"[:remainder]\n",
    "    return filler_data.encode('utf-8')"
   ]
  },
  {
   "cell_type": "code",
   "execution_count": 2,
   "id": "ef60e0fe-aff1-4697-8bda-0054cc1c6912",
   "metadata": {},
   "outputs": [],
   "source": [
    "def send_packet(host, port, size_kb):\n",
    "    \"\"\"Sends a packet to a specified host and port.\"\"\"\n",
    "    with socket.socket(socket.AF_INET, socket.SOCK_DGRAM) as sock:\n",
    "        packet = create_packet(size_kb)\n",
    "        sock.sendto(packet, (host, port))"
   ]
  },
  {
   "cell_type": "code",
   "execution_count": 3,
   "id": "46ed21ef-8bdb-4b71-931f-042a804587b1",
   "metadata": {},
   "outputs": [],
   "source": [
    "def send_smoke_signal_sequence(host, port, sequence, repeats):\n",
    "    \"\"\"Sends a sequence of packets for a specified number of repeats.\"\"\"\n",
    "    for _ in range(repeats):\n",
    "        for size_kb in sequence:\n",
    "            print(f\"Sending a packet of {size_kb} KB\")\n",
    "            send_packet(host, port, size_kb)\n",
    "            time.sleep(2)  # Introducing a delay between sending packets"
   ]
  },
  {
   "cell_type": "code",
   "execution_count": 4,
   "id": "d522f7a4-059d-4897-a4b0-da3695a7e761",
   "metadata": {},
   "outputs": [],
   "source": [
    "def send_encoded_message(host, port, message, letter_to_size, repeats):\n",
    "    \"\"\"Sends an encoded message using packet sizes.\"\"\"\n",
    "    for _ in range(repeats):\n",
    "        for letter in message.upper():  # Convert the message to uppercase for consistent mapping\n",
    "            if letter in letter_to_size:\n",
    "                size_kb = letter_to_size[letter]\n",
    "                print(f\"Sending '{letter}' as a packet of {size_kb} KB\")\n",
    "                send_packet(host, port, size_kb)\n",
    "                time.sleep(2)  # Introducing a delay between sending packets"
   ]
  },
  {
   "cell_type": "code",
   "execution_count": 5,
   "id": "62352e29-e175-4734-a6c8-21b6d02f00c2",
   "metadata": {},
   "outputs": [],
   "source": [
    "letter_to_size = {\n",
    "    'A': 1,   'B': 2,   'C': 3,   'D': 4,   'E': 5,\n",
    "    'F': 6,   'G': 7,   'H': 8,   'I': 9,   'J': 10,\n",
    "    'K': 11,  'L': 12,  'M': 13,  'N': 14,  'O': 15,\n",
    "    'P': 16,  'Q': 17,  'R': 18,  'S': 19,  'T': 20,\n",
    "    'U': 21,  'V': 22,  'W': 23,  'X': 24,  'Y': 25, 'Z': 26,\n",
    "    ' ': 27,  # Space\n",
    "    '.': 28,  # Period\n",
    "}"
   ]
  },
  {
   "cell_type": "markdown",
   "id": "55cf2c7f-03f6-4283-992f-941812bec2b0",
   "metadata": {},
   "source": [
    "## Sending Puffs"
   ]
  },
  {
   "cell_type": "code",
   "execution_count": 6,
   "id": "c59729de-25f0-486c-b729-55e80a75c04e",
   "metadata": {},
   "outputs": [
    {
     "name": "stdout",
     "output_type": "stream",
     "text": [
      "Sending a packet of 5 KB\n",
      "Sending a packet of 20 KB\n"
     ]
    },
    {
     "ename": "KeyboardInterrupt",
     "evalue": "",
     "output_type": "error",
     "traceback": [
      "\u001b[1;31m---------------------------------------------------------------------------\u001b[0m",
      "\u001b[1;31mKeyboardInterrupt\u001b[0m                         Traceback (most recent call last)",
      "\u001b[1;32m~\\AppData\\Local\\Temp\\ipykernel_36840\\2149538752.py\u001b[0m in \u001b[0;36m<module>\u001b[1;34m\u001b[0m\n\u001b[0;32m      7\u001b[0m \u001b[1;33m\u001b[0m\u001b[0m\n\u001b[0;32m      8\u001b[0m \u001b[0mrepeats\u001b[0m \u001b[1;33m=\u001b[0m \u001b[1;36m10\u001b[0m\u001b[1;33m\u001b[0m\u001b[1;33m\u001b[0m\u001b[0m\n\u001b[1;32m----> 9\u001b[1;33m \u001b[0msend_smoke_signal_sequence\u001b[0m\u001b[1;33m(\u001b[0m\u001b[0mhost\u001b[0m\u001b[1;33m,\u001b[0m \u001b[0mport\u001b[0m\u001b[1;33m,\u001b[0m \u001b[0msmoke_signal_pattern\u001b[0m\u001b[1;33m,\u001b[0m \u001b[0mrepeats\u001b[0m\u001b[1;33m)\u001b[0m\u001b[1;33m\u001b[0m\u001b[1;33m\u001b[0m\u001b[0m\n\u001b[0m",
      "\u001b[1;32m~\\AppData\\Local\\Temp\\ipykernel_36840\\1984665609.py\u001b[0m in \u001b[0;36msend_smoke_signal_sequence\u001b[1;34m(host, port, sequence, repeats)\u001b[0m\n\u001b[0;32m      5\u001b[0m             \u001b[0mprint\u001b[0m\u001b[1;33m(\u001b[0m\u001b[1;34mf\"Sending a packet of {size_kb} KB\"\u001b[0m\u001b[1;33m)\u001b[0m\u001b[1;33m\u001b[0m\u001b[1;33m\u001b[0m\u001b[0m\n\u001b[0;32m      6\u001b[0m             \u001b[0msend_packet\u001b[0m\u001b[1;33m(\u001b[0m\u001b[0mhost\u001b[0m\u001b[1;33m,\u001b[0m \u001b[0mport\u001b[0m\u001b[1;33m,\u001b[0m \u001b[0msize_kb\u001b[0m\u001b[1;33m)\u001b[0m\u001b[1;33m\u001b[0m\u001b[1;33m\u001b[0m\u001b[0m\n\u001b[1;32m----> 7\u001b[1;33m             \u001b[0mtime\u001b[0m\u001b[1;33m.\u001b[0m\u001b[0msleep\u001b[0m\u001b[1;33m(\u001b[0m\u001b[1;36m2\u001b[0m\u001b[1;33m)\u001b[0m  \u001b[1;31m# Introducing a delay between sending packets\u001b[0m\u001b[1;33m\u001b[0m\u001b[1;33m\u001b[0m\u001b[0m\n\u001b[0m",
      "\u001b[1;31mKeyboardInterrupt\u001b[0m: "
     ]
    }
   ],
   "source": [
    "# Example usage:\n",
    "host = \"192.168.0.196\"  # Localhost for testing\n",
    "port = 12345\n",
    "\n",
    "# Define a sequence of packet sizes to simulate smoke signal patterns\n",
    "smoke_signal_pattern = [5, 20, 5, 10, 15]  # Example sizes in KB\n",
    "\n",
    "repeats = 10\n",
    "send_smoke_signal_sequence(host, port, smoke_signal_pattern, repeats)"
   ]
  },
  {
   "cell_type": "markdown",
   "id": "392b29d1-60b6-402b-9489-518cddaf5e42",
   "metadata": {},
   "source": [
    "## Sending Text"
   ]
  },
  {
   "cell_type": "code",
   "execution_count": 7,
   "id": "5f4a9434-4aba-4e6e-a7a8-272aa93d60c0",
   "metadata": {},
   "outputs": [
    {
     "name": "stdout",
     "output_type": "stream",
     "text": [
      "Sending 'H' as a packet of 8 KB\n",
      "Sending 'E' as a packet of 5 KB\n",
      "Sending 'L' as a packet of 12 KB\n",
      "Sending 'L' as a packet of 12 KB\n",
      "Sending 'O' as a packet of 15 KB\n",
      "Sending ' ' as a packet of 27 KB\n",
      "Sending 'W' as a packet of 23 KB\n",
      "Sending 'O' as a packet of 15 KB\n",
      "Sending 'R' as a packet of 18 KB\n",
      "Sending 'L' as a packet of 12 KB\n",
      "Sending 'D' as a packet of 4 KB\n"
     ]
    }
   ],
   "source": [
    "message = \"HELLO WORLD\"\n",
    "host = \"192.168.0.196\"  # Localhost for testing\n",
    "port = 12345\n",
    "repeats = 1\n",
    "send_encoded_message(host, port, message, letter_to_size, repeats)"
   ]
  },
  {
   "cell_type": "code",
   "execution_count": null,
   "id": "0f68fe1e-ca0c-4733-bf04-e6e215142ee6",
   "metadata": {},
   "outputs": [],
   "source": []
  }
 ],
 "metadata": {
  "kernelspec": {
   "display_name": "Python 3 (ipykernel)",
   "language": "python",
   "name": "python3"
  },
  "language_info": {
   "codemirror_mode": {
    "name": "ipython",
    "version": 3
   },
   "file_extension": ".py",
   "mimetype": "text/x-python",
   "name": "python",
   "nbconvert_exporter": "python",
   "pygments_lexer": "ipython3",
   "version": "3.9.13"
  }
 },
 "nbformat": 4,
 "nbformat_minor": 5
}
