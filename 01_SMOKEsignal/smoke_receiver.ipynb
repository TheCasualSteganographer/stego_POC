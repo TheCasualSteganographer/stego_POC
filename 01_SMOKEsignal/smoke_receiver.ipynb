{
 "cells": [
  {
   "cell_type": "code",
   "execution_count": 3,
   "id": "91f0f4b8-c8db-459f-b4c8-112ce58a505b",
   "metadata": {},
   "outputs": [],
   "source": [
    "letter_to_size = {\n",
    "    'A': 1,   'B': 2,   'C': 3,   'D': 4,   'E': 5,\n",
    "    'F': 6,   'G': 7,   'H': 8,   'I': 9,   'J': 10,\n",
    "    'K': 11,  'L': 12,  'M': 13,  'N': 14,  'O': 15,\n",
    "    'P': 16,  'Q': 17,  'R': 18,  'S': 19,  'T': 20,\n",
    "    'U': 21,  'V': 22,  'W': 23,  'X': 24,  'Y': 25, 'Z': 26,\n",
    "    ' ': 27,  # Space\n",
    "    '.': 28,  # Period\n",
    "}"
   ]
  },
  {
   "cell_type": "code",
   "execution_count": 5,
   "id": "c898e0d7-0c0f-4890-81ae-9e44fedf8122",
   "metadata": {},
   "outputs": [
    {
     "name": "stdout",
     "output_type": "stream",
     "text": [
      "Listening for UDP packets on port 12345...\n",
      "Packet received from 192.168.0.196:59933 - Length: 8192 bytes - Decoded as 'H'\n",
      "Packet received from 192.168.0.196:60042 - Length: 5120 bytes - Decoded as 'E'\n",
      "Packet received from 192.168.0.196:60084 - Length: 12288 bytes - Decoded as 'L'\n",
      "Packet received from 192.168.0.196:60096 - Length: 12288 bytes - Decoded as 'L'\n",
      "Packet received from 192.168.0.196:60133 - Length: 15360 bytes - Decoded as 'O'\n",
      "Packet received from 192.168.0.196:53943 - Length: 27648 bytes - Decoded as ' '\n",
      "Packet received from 192.168.0.196:53951 - Length: 23552 bytes - Decoded as 'W'\n",
      "Packet received from 192.168.0.196:63882 - Length: 15360 bytes - Decoded as 'O'\n",
      "Packet received from 192.168.0.196:63887 - Length: 18432 bytes - Decoded as 'R'\n",
      "Packet received from 192.168.0.196:64433 - Length: 12288 bytes - Decoded as 'L'\n",
      "Packet received from 192.168.0.196:64461 - Length: 4096 bytes - Decoded as 'D'\n",
      "\n",
      "Decoded Message: HELLO WORLD\n"
     ]
    }
   ],
   "source": [
    "import socket\n",
    "\n",
    "# Reverse the dictionary for lookup by size\n",
    "size_to_letter = {v: k for k, v in letter_to_size.items()}\n",
    "\n",
    "def udp_sniffer(port, packet_count):\n",
    "    # Create a socket to listen for UDP packets on the specified port\n",
    "    with socket.socket(socket.AF_INET, socket.SOCK_DGRAM) as s:\n",
    "        s.bind((\"0.0.0.0\", port))  # Bind to all available interfaces\n",
    "        print(f\"Listening for UDP packets on port {port}...\")\n",
    "        \n",
    "        decoded_message = \"\"\n",
    "        for _ in range(packet_count):\n",
    "            # Receive the packet data and address\n",
    "            data, addr = s.recvfrom(65535)  # Maximum UDP packet size\n",
    "            src_ip, src_port = addr\n",
    "            \n",
    "            # Determine the length of the packet\n",
    "            packet_length = len(data)\n",
    "\n",
    "            # Extract the significant digits based on the packet length\n",
    "            if 1000 <= packet_length < 10000:  # i.e., between 1 KB and 9 KB\n",
    "                packet_size = int(str(packet_length)[0])\n",
    "            elif 10000 <= packet_length < 100000:  # i.e., between 10 KB and 99 KB\n",
    "                packet_size = int(str(packet_length)[:2])\n",
    "            else:\n",
    "                packet_size = None  # This sets a default if, for some reason, packet size is outside expected bounds\n",
    "\n",
    "            \n",
    "            decoded_character = size_to_letter.get(packet_size, '?')  # '?' denotes unrecognized characters\n",
    "            decoded_message += decoded_character\n",
    "            \n",
    "            # Display basic packet info and decoded character\n",
    "            print(f\"Packet received from {src_ip}:{src_port} - Length: {len(data)} bytes - Decoded as '{decoded_character}'\")\n",
    "        \n",
    "        print(f\"\\nDecoded Message: {decoded_message}\")\n",
    "\n",
    "# Set the desired port and packet count\n",
    "PORT = 12345\n",
    "PACKET_COUNT = 11\n",
    "\n",
    "# Start the packet sniffer\n",
    "udp_sniffer(PORT, PACKET_COUNT)"
   ]
  },
  {
   "cell_type": "code",
   "execution_count": null,
   "id": "24a97c77-705c-4bc4-a47d-348e15664cbc",
   "metadata": {},
   "outputs": [],
   "source": []
  }
 ],
 "metadata": {
  "kernelspec": {
   "display_name": "Python 3 (ipykernel)",
   "language": "python",
   "name": "python3"
  },
  "language_info": {
   "codemirror_mode": {
    "name": "ipython",
    "version": 3
   },
   "file_extension": ".py",
   "mimetype": "text/x-python",
   "name": "python",
   "nbconvert_exporter": "python",
   "pygments_lexer": "ipython3",
   "version": "3.9.13"
  }
 },
 "nbformat": 4,
 "nbformat_minor": 5
}
