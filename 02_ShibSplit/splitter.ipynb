{
 "cells": [
  {
   "cell_type": "code",
   "execution_count": 9,
   "id": "44f9b1be-64d8-4692-ae04-ccf4d62fb8ed",
   "metadata": {},
   "outputs": [],
   "source": [
    "import os\n",
    "\n",
    "SHIBBOLETH = b'shibboleth'\n",
    "SPLIT_SIZE = 1024  # Bytes\n",
    "\n",
    "def create_shibboleth_split(original_file):\n",
    "    \"\"\"Divide the original file into pieces and embed the shibboleth.\"\"\"\n",
    "    with open(original_file, 'rb') as f:\n",
    "        content = f.read()\n",
    "\n",
    "    n = len(content)\n",
    "    pieces = [content[i:i + SPLIT_SIZE] + SHIBBOLETH for i in range(0, n, SPLIT_SIZE)]\n",
    "    return pieces\n",
    "\n",
    "def create_decoy_split(count, size):\n",
    "    \"\"\"Generate decoy pieces that don't contain the shibboleth.\"\"\"\n",
    "    decoys = [os.urandom(size) for _ in range(count)]\n",
    "    return decoys\n",
    "\n",
    "def save_pieces(directory, pieces, prefix=\"piece_\"):\n",
    "    \"\"\"Save the pieces in a directory.\"\"\"\n",
    "    if not os.path.exists(directory):\n",
    "        os.makedirs(directory)\n",
    "\n",
    "    for index, piece in enumerate(pieces, start=1):\n",
    "        with open(os.path.join(directory, f\"{prefix}{index}.dat\"), 'wb') as f:\n",
    "            f.write(piece)\n",
    "\n",
    "def reconstruct_shibboleth_file(directory):\n",
    "    \"\"\"Extract all pieces with the shibboleth marker and concatenate them.\"\"\"\n",
    "    pieces = []\n",
    "\n",
    "    for filename in sorted(os.listdir(directory)):\n",
    "        with open(os.path.join(directory, filename), 'rb') as f:\n",
    "            piece = f.read()\n",
    "            if piece.endswith(SHIBBOLETH):\n",
    "                pieces.append(piece[:-len(SHIBBOLETH)])\n",
    "\n",
    "    return b''.join(pieces)"
   ]
  },
  {
   "cell_type": "markdown",
   "id": "279a5e96-d587-41a0-bde7-2c7eac66f3ff",
   "metadata": {},
   "source": [
    "## Deconstruct the file and save the pieces along with decoy files"
   ]
  },
  {
   "cell_type": "code",
   "execution_count": 10,
   "id": "b50a7765-5386-4349-8259-a7da5a5dcfe3",
   "metadata": {},
   "outputs": [],
   "source": [
    "# Create shibboleth-labeled pieces and decoys\n",
    "pieces = create_shibboleth_split(\"large_file.dat\")\n",
    "decoys = create_decoy_split(len(pieces), SPLIT_SIZE)\n",
    "\n",
    "# Save real pieces and decoys in a directory\n",
    "save_pieces(\"pieces_directory\", pieces)\n",
    "save_pieces(\"pieces_directory\", decoys, prefix=\"decoy_\")"
   ]
  },
  {
   "cell_type": "markdown",
   "id": "e10eace3-2763-4cdd-879e-2c4204abf8cf",
   "metadata": {},
   "source": [
    "## Reassemble the pieces of the file"
   ]
  },
  {
   "cell_type": "code",
   "execution_count": 11,
   "id": "14e5f178-68e2-4c9e-8f1d-b2d7e84301ac",
   "metadata": {},
   "outputs": [],
   "source": [
    "reconstructed_content = reconstruct_shibboleth_file(\"pieces_directory\")\n",
    "\n",
    "with open(\"reconstructed.dat\", 'wb') as f:\n",
    "    f.write(reconstructed_content)"
   ]
  },
  {
   "cell_type": "markdown",
   "id": "6a45c2c2-d9de-4b70-91d5-349d7324d221",
   "metadata": {},
   "source": [
    "## Demonstration of naive assembly of split file"
   ]
  },
  {
   "cell_type": "code",
   "execution_count": 12,
   "id": "0b398a57-d89a-4a1d-bbf0-726ae4c884d0",
   "metadata": {},
   "outputs": [],
   "source": [
    "def incorrect_reassemble(directory):\n",
    "    \"\"\"Reassemble file from all files in directory without checking for the shibboleth.\"\"\"\n",
    "    pieces = []\n",
    "\n",
    "    for filename in sorted(os.listdir(directory)):\n",
    "        with open(os.path.join(directory, filename), 'rb') as f:\n",
    "            piece = f.read()\n",
    "            # Don't strip the shibboleth, if present, to show the error\n",
    "            pieces.append(piece)\n",
    "\n",
    "    return b''.join(pieces)"
   ]
  },
  {
   "cell_type": "code",
   "execution_count": 13,
   "id": "2bb80e99-df00-4945-a6d9-cef136a22e89",
   "metadata": {},
   "outputs": [],
   "source": [
    "incorrect_content = incorrect_reassemble(\"pieces_directory\")\n",
    "\n",
    "with open(\"incorrect_reconstructed.dat\", 'wb') as f:\n",
    "    f.write(incorrect_content)"
   ]
  }
 ],
 "metadata": {
  "kernelspec": {
   "display_name": "Python 3 (ipykernel)",
   "language": "python",
   "name": "python3"
  },
  "language_info": {
   "codemirror_mode": {
    "name": "ipython",
    "version": 3
   },
   "file_extension": ".py",
   "mimetype": "text/x-python",
   "name": "python",
   "nbconvert_exporter": "python",
   "pygments_lexer": "ipython3",
   "version": "3.9.13"
  }
 },
 "nbformat": 4,
 "nbformat_minor": 5
}
